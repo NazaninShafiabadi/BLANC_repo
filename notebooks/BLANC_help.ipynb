{
 "cells": [
  {
   "cell_type": "code",
   "execution_count": 1,
   "metadata": {},
   "outputs": [
    {
     "name": "stderr",
     "output_type": "stream",
     "text": [
      "/Users/nazanin/anaconda3/envs/blanc/lib/python3.10/site-packages/tqdm/auto.py:21: TqdmWarning: IProgress not found. Please update jupyter and ipywidgets. See https://ipywidgets.readthedocs.io/en/stable/user_install.html\n",
      "  from .autonotebook import tqdm as notebook_tqdm\n",
      "[nltk_data] Downloading package punkt to /Users/nazanin/nltk_data...\n",
      "[nltk_data]   Package punkt is already up-to-date!\n"
     ]
    },
    {
     "data": {
      "text/plain": [
       "True"
      ]
     },
     "execution_count": 1,
     "metadata": {},
     "output_type": "execute_result"
    }
   ],
   "source": [
    "import pandas as pd\n",
    "import torch\n",
    "import nltk\n",
    "from nltk.tokenize import sent_tokenize, word_tokenize\n",
    "\n",
    "# The models the authors used:\n",
    "try:\n",
    "    from transformers import BertForMaskedLM, BertTokenizer, AdamW, get_linear_schedule_with_warmup\n",
    "    from transformers import AlbertForMaskedLM, AlbertTokenizer\n",
    "except ModuleNotFoundError:\n",
    "    %pip install transformers\n",
    "    from transformers import BertForMaskedLM, BertTokenizer, AdamW, get_linear_schedule_with_warmup\n",
    "    from transformers import AlbertForMaskedLM, AlbertTokenizer\n",
    "\n",
    "nltk.download('punkt')"
   ]
  },
  {
   "cell_type": "code",
   "execution_count": 3,
   "metadata": {},
   "outputs": [
    {
     "data": {
      "text/plain": [
       "device(type='cpu')"
      ]
     },
     "execution_count": 3,
     "metadata": {},
     "output_type": "execute_result"
    }
   ],
   "source": [
    "device = torch.device('cuda' if torch.cuda.is_available() else 'cpu')\n",
    "device"
   ]
  },
  {
   "cell_type": "code",
   "execution_count": 8,
   "metadata": {},
   "outputs": [],
   "source": [
    "dataset = pd.read_json('../datasets/DailyNews_300.json')\n",
    "summaries = dataset.iloc[:,2]\n",
    "texts = dataset.iloc[:,3]"
   ]
  },
  {
   "cell_type": "code",
   "execution_count": 9,
   "metadata": {},
   "outputs": [
    {
     "name": "stderr",
     "output_type": "stream",
     "text": [
      "Some weights of the model checkpoint at bert-base-uncased were not used when initializing BertForMaskedLM: ['cls.seq_relationship.bias', 'bert.pooler.dense.weight', 'bert.pooler.dense.bias', 'cls.seq_relationship.weight']\n",
      "- This IS expected if you are initializing BertForMaskedLM from the checkpoint of a model trained on another task or with another architecture (e.g. initializing a BertForSequenceClassification model from a BertForPreTraining model).\n",
      "- This IS NOT expected if you are initializing BertForMaskedLM from the checkpoint of a model that you expect to be exactly identical (initializing a BertForSequenceClassification model from a BertForSequenceClassification model).\n"
     ]
    }
   ],
   "source": [
    "tokenizer = BertTokenizer.from_pretrained('bert-base-uncased', do_lower_case = True)\n",
    "model = BertForMaskedLM.from_pretrained('bert-base-uncased').to(device)"
   ]
  },
  {
   "cell_type": "code",
   "execution_count": 10,
   "metadata": {},
   "outputs": [],
   "source": [
    "def BLANC_help(summary, text, model, M=6, L_min=4, sep=' '):\n",
    "    \"\"\"\n",
    "    Calculate BLANC similarity between summary and text using a specified model.\n",
    "\n",
    "    Parameters:\n",
    "    - summary (str): The summary text.\n",
    "    - text (List[List[str]]): List of sentences represented as a list of words.\n",
    "    - model: BERT model type\n",
    "    - M (int): Parameter M for the algorithm (default is 6).\n",
    "    - L_min (int): Minimum length requirement for masked words (default is 4).\n",
    "    - sep (str): Separator between the inference help (filler/summary) and a sentence from the text (default is '').\n",
    "\n",
    "    Returns:\n",
    "    - float: BLANC similarity score.\n",
    "    \"\"\"\n",
    "\n",
    "    text_sents = sent_tokenize(text)\n",
    "\n",
    "    filler = '.' * len(summary)\n",
    "    S = [[0, 0], [0, 0]]\n",
    "\n",
    "    for sentence in text_sents:\n",
    "        sentence = word_tokenize(sentence)\n",
    "        for i in range(M):\n",
    "            masked_sentence = ['[MASK]' if (j - i) % M == 0 and len(sentence[j]) >= L_min else sentence[j] for j in range(len(sentence))]\n",
    "            input_base = filler + sep + ' '.join(masked_sentence)\n",
    "            input_help = summary + sep + ' '.join(masked_sentence)\n",
    "            tokenized_input_base = tokenizer(input_base, return_tensors='pt', max_length=512, padding='max_length', truncation=True).to(device)\n",
    "            tokenized_input_help = tokenizer(input_help, return_tensors='pt', max_length=512, padding='max_length', truncation=True).to(device)\n",
    "            out_base = model(**tokenized_input_base).logits\n",
    "            out_help = model(**tokenized_input_help).logits\n",
    "            masked_tokens = [idx for idx, word in enumerate(masked_sentence) if word == '[MASK]']\n",
    "            # print(f'masked token indecies: {masked_tokens}')\n",
    "\n",
    "            for j in masked_tokens:\n",
    "                predicted_idx_base = torch.argmax(out_base[:, j], dim=-1).item()\n",
    "                predicted_idx_help = torch.argmax(out_help[:, j], dim=-1).item()\n",
    "\n",
    "                predicted_word_base = tokenizer.convert_ids_to_tokens(predicted_idx_base)\n",
    "                predicted_word_help = tokenizer.convert_ids_to_tokens(predicted_idx_help)\n",
    "                \n",
    "                # print(f'predicted_word_base: {predicted_word_base}')\n",
    "                # print(f'predicted_word_help: {predicted_word_help}')\n",
    "                # print(f'sentence[{j}]: {sentence[j]}\\n')\n",
    "                k = int(predicted_word_base == sentence[j])\n",
    "                m = int(predicted_word_help == sentence[j])\n",
    "                S[k][m] += 1\n",
    "\n",
    "    print(f'S: {S}')\n",
    "    try:\n",
    "      B = (S[0][1] - S[1][0]) / (S[0][0] + S[1][1] + S[0][1] + S[1][0])\n",
    "    except ZeroDivisionError:\n",
    "      B = 0.0\n",
    "\n",
    "    return B\n",
    "\n"
   ]
  },
  {
   "cell_type": "code",
   "execution_count": null,
   "metadata": {},
   "outputs": [],
   "source": [
    "BLANC_help(summaries[0], texts[0], model)"
   ]
  },
  {
   "cell_type": "code",
   "execution_count": 25,
   "metadata": {},
   "outputs": [
    {
     "name": "stdout",
     "output_type": "stream",
     "text": [
      "0.0\n"
     ]
    }
   ],
   "source": [
    "scores = [BLANC_help(summary, text, model)\n",
    "          for summary, text in zip(summaries, texts)]\n",
    "scores"
   ]
  },
  {
   "cell_type": "markdown",
   "metadata": {},
   "source": [
    "Ideas for improvement:\n",
    "1. try other models\n",
    "2. try other datasets\n",
    "3. test on other problems"
   ]
  }
 ],
 "metadata": {
  "kernelspec": {
   "display_name": "BLANC_repo-_IGNgo0f",
   "language": "python",
   "name": "python3"
  },
  "language_info": {
   "codemirror_mode": {
    "name": "ipython",
    "version": 3
   },
   "file_extension": ".py",
   "mimetype": "text/x-python",
   "name": "python",
   "nbconvert_exporter": "python",
   "pygments_lexer": "ipython3",
   "version": "3.10.0"
  }
 },
 "nbformat": 4,
 "nbformat_minor": 2
}
