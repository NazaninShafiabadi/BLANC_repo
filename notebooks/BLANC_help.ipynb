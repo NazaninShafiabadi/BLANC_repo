{
 "cells": [
  {
   "cell_type": "code",
   "execution_count": null,
   "metadata": {},
   "outputs": [],
   "source": [
    "# %pip install datasets"
   ]
  },
  {
   "cell_type": "code",
   "execution_count": 1,
   "metadata": {},
   "outputs": [
    {
     "name": "stderr",
     "output_type": "stream",
     "text": [
      "/Users/nazanin/anaconda3/envs/blanc/lib/python3.10/site-packages/tqdm/auto.py:21: TqdmWarning: IProgress not found. Please update jupyter and ipywidgets. See https://ipywidgets.readthedocs.io/en/stable/user_install.html\n",
      "  from .autonotebook import tqdm as notebook_tqdm\n",
      "[nltk_data] Downloading package punkt to /Users/nazanin/nltk_data...\n",
      "[nltk_data]   Package punkt is already up-to-date!\n"
     ]
    },
    {
     "data": {
      "text/plain": [
       "True"
      ]
     },
     "execution_count": 1,
     "metadata": {},
     "output_type": "execute_result"
    }
   ],
   "source": [
    "import pandas as pd\n",
    "import torch\n",
    "import nltk\n",
    "from nltk.tokenize import sent_tokenize, word_tokenize\n",
    "from torch.utils.data import DataLoader\n",
    "from datasets import load_dataset\n",
    "from tqdm.notebook import tqdm\n",
    "\n",
    "# The models the authors used:\n",
    "try:\n",
    "    from transformers import BertConfig, BertForMaskedLM, BertTokenizer, AdamW, get_linear_schedule_with_warmup\n",
    "    from transformers import AlbertForMaskedLM, AlbertTokenizer\n",
    "except ModuleNotFoundError:\n",
    "    %pip install transformers\n",
    "    from transformers import BertForMaskedLM, BertTokenizer, AdamW, get_linear_schedule_with_warmup\n",
    "    from transformers import AlbertForMaskedLM, AlbertTokenizer\n",
    "\n",
    "nltk.download('punkt')"
   ]
  },
  {
   "cell_type": "code",
   "execution_count": 3,
   "metadata": {},
   "outputs": [
    {
     "data": {
      "text/plain": [
       "device(type='cpu')"
      ]
     },
     "execution_count": 3,
     "metadata": {},
     "output_type": "execute_result"
    }
   ],
   "source": [
    "DEVICE = torch.device('cuda' if torch.cuda.is_available() else 'cpu')\n",
    "DEVICE"
   ]
  },
  {
   "cell_type": "code",
   "execution_count": 8,
   "metadata": {},
   "outputs": [],
   "source": [
    "DailyNews_ds = load_dataset('json', data_files='DailyNews_300.json', split='train')\n",
    "DailyNews_ds"
   ]
  },
  {
   "cell_type": "code",
   "execution_count": 9,
   "metadata": {},
   "outputs": [
    {
     "name": "stderr",
     "output_type": "stream",
     "text": [
      "Some weights of the model checkpoint at bert-base-uncased were not used when initializing BertForMaskedLM: ['cls.seq_relationship.bias', 'bert.pooler.dense.weight', 'bert.pooler.dense.bias', 'cls.seq_relationship.weight']\n",
      "- This IS expected if you are initializing BertForMaskedLM from the checkpoint of a model trained on another task or with another architecture (e.g. initializing a BertForSequenceClassification model from a BertForPreTraining model).\n",
      "- This IS NOT expected if you are initializing BertForMaskedLM from the checkpoint of a model that you expect to be exactly identical (initializing a BertForSequenceClassification model from a BertForSequenceClassification model).\n"
     ]
    }
   ],
   "source": [
    "tokenizer = BertTokenizer.from_pretrained('bert-base-uncased', do_lower_case = True)\n",
    "# model = BertForMaskedLM.from_pretrained('bert-base-uncased').to(DEVICE)\n",
    "\n",
    "config = BertConfig.from_pretrained('bert-base-uncased')\n",
    "model = BertForMaskedLM(config).to(DEVICE)\n",
    "\n",
    "print(config)"
   ]
  },
  {
   "cell_type": "code",
   "execution_count": null,
   "metadata": {},
   "outputs": [],
   "source": [
    "def mask_sentence(sentence, i, M, L_min):\n",
    "    return [tokenizer.mask_token \n",
    "            if (j - i) % M == 0 \n",
    "            and (len(sentence[j]) >= L_min \n",
    "                 or sentence[j].startswith('##') \n",
    "                 or sentence[min(j+1, len(sentence)-1)].startswith('##')) \n",
    "            else sentence[j] \n",
    "            for j in range(len(sentence))]"
   ]
  },
  {
   "cell_type": "code",
   "execution_count": 10,
   "metadata": {},
   "outputs": [],
   "source": [
    "def BLANC_help(summary, text, model, M=6, L_min=4, sep='[SEP]', device='cpu'):\n",
    "    \"\"\"\n",
    "    Calculates BLANC similarity between summary and text using a specified model.\n",
    "\n",
    "    Parameters:\n",
    "    - summary ([List[str]]): A tokenized summary.\n",
    "    - text (List[List[str]]): A tokenized text; list of sentences represented as a list of tokens.\n",
    "    - model: BERT-type model.\n",
    "    - M (int): Parameter M for the algorithm (default is 6).\n",
    "    - L_min (int): Minimum length requirement for masked words (default is 4).\n",
    "    - sep (str): Separator between the inference help (filler/summary) and a sentence from the text (default is ' ').\n",
    "\n",
    "    Returns:\n",
    "    - float: BLANC similarity score for one text-summary pair.\n",
    "    \"\"\"\n",
    "\n",
    "    filler = ['.'] * len(summary)\n",
    "    S = [[0, 0], [0, 0]]\n",
    "\n",
    "    for sentence in text:\n",
    "        for i in range(M):\n",
    "            masked_sentence = mask_sentence(sentence, i, M, L_min)\n",
    "\n",
    "            input_base = filler + [sep] + masked_sentence\n",
    "            input_help = summary + [sep] + masked_sentence\n",
    "\n",
    "            tokenized_input_base = torch.tensor(tokenizer.convert_tokens_to_ids(input_base)).to(device) # Shape: [sequence_length]\n",
    "            tokenized_input_help = torch.tensor(tokenizer.convert_tokens_to_ids(input_help)).to(device) # Shape: [sequence_length]\n",
    "            assert len(tokenized_input_base) == len(tokenized_input_help), \"input_base and input_help have different lengths\"\n",
    "\n",
    "            out_base = model(input_ids=tokenized_input_base.unsqueeze(0)).logits  # Shape: [1, sequence_length, Bert_vocab_size]\n",
    "            out_help = model(input_ids=tokenized_input_help.unsqueeze(0)).logits  # Shape: [1, sequence_length, Bert_vocab_size]\n",
    "\n",
    "            out_base = out_base.squeeze(0)  # Shape: [sequence_length, Bert_vocab_size]\n",
    "            out_help = out_help.squeeze(0)  # Shape: [sequence_length, Bert_vocab_size]\n",
    "\n",
    "            masked_tokens = [idx for idx, word in enumerate(masked_sentence) if word == tokenizer.mask_token]\n",
    "\n",
    "            for j in masked_tokens:\n",
    "                idx = len(summary + [sep]) + j\n",
    "                predicted_idx_base = torch.argmax(out_base[idx]).item()\n",
    "                predicted_idx_help = torch.argmax(out_help[idx]).item()\n",
    "\n",
    "                predicted_word_base = tokenizer.convert_ids_to_tokens(predicted_idx_base)\n",
    "                predicted_word_help = tokenizer.convert_ids_to_tokens(predicted_idx_help)\n",
    "\n",
    "                # print(f'predicted_word_base: {predicted_word_base}')\n",
    "                # print(f'predicted_word_help: {predicted_word_help}')\n",
    "                # print(f'sentence[{j}]: {sentence[j]}')\n",
    "\n",
    "                k = int(predicted_word_base == sentence[j])\n",
    "                m = int(predicted_word_help == sentence[j])\n",
    "                S[k][m] += 1\n",
    "\n",
    "    try:\n",
    "      B = (S[0][1] - S[1][0]) / (S[0][0] + S[1][1] + S[0][1] + S[1][0])\n",
    "    except ZeroDivisionError:\n",
    "      B = 0.0\n",
    "\n",
    "    return B"
   ]
  },
  {
   "cell_type": "code",
   "execution_count": null,
   "metadata": {},
   "outputs": [],
   "source": [
    "summaries = DailyNews_ds['summary'] # (List[str])\n",
    "texts = DailyNews_ds['text']  # (List[str]) each string is a paragraph made of a few sentences\n",
    "\n",
    "# Each text in texts is a list of sentences (each sentence is a string)\n",
    "texts = [sent_tokenize(text.strip()) for text in texts] # List[List[str]]\n",
    "assert len(texts) == len(summaries) == 300\n",
    "\n",
    "tokenized_texts = [[tokenizer.tokenize(sentence) for sentence in text] for text in texts]\n",
    "tokenized_summaries = [tokenizer.tokenize(summary) for summary in summaries]"
   ]
  },
  {
   "cell_type": "code",
   "execution_count": null,
   "metadata": {},
   "outputs": [],
   "source": [
    "BLANC_help(tokenized_summaries[0], tokenized_texts[0], model, device=DEVICE)"
   ]
  },
  {
   "cell_type": "code",
   "execution_count": null,
   "metadata": {},
   "outputs": [],
   "source": [
    "scores = [BLANC_help(summary, text, model, device=DEVICE)\n",
    "          for summary, text in tqdm(zip(tokenized_summaries, tokenized_texts))]\n",
    "scores"
   ]
  }
 ],
 "metadata": {
  "kernelspec": {
   "display_name": "BLANC_repo-_IGNgo0f",
   "language": "python",
   "name": "python3"
  },
  "language_info": {
   "codemirror_mode": {
    "name": "ipython",
    "version": 3
   },
   "file_extension": ".py",
   "mimetype": "text/x-python",
   "name": "python",
   "nbconvert_exporter": "python",
   "pygments_lexer": "ipython3",
   "version": "3.10.0"
  }
 },
 "nbformat": 4,
 "nbformat_minor": 2
}
