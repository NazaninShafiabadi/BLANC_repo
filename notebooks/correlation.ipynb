{
 "cells": [
  {
   "cell_type": "code",
   "execution_count": 23,
   "metadata": {},
   "outputs": [],
   "source": [
    "import json\n",
    "import numpy as np\n",
    "from datasets import load_dataset\n",
    "from scipy.stats import spearmanr"
   ]
  },
  {
   "cell_type": "code",
   "execution_count": 28,
   "metadata": {},
   "outputs": [],
   "source": [
    "DailyNews_ds = load_dataset('json', data_files='../datasets/DailyNews_300.json', split='train')\n",
    "\n",
    "max_nb_of_scores = 10\n",
    "padded_human_scores = [sublist + [np.nan] * (max_nb_of_scores - len(sublist)) for sublist in DailyNews_ds['scores']]\n",
    "mean_human_scores = np.nanmean(np.array(padded_human_scores), axis=1)\n",
    "\n",
    "assert np.mean(DailyNews_ds['scores'][0]) == mean_human_scores[0]"
   ]
  },
  {
   "cell_type": "code",
   "execution_count": 22,
   "metadata": {},
   "outputs": [
    {
     "name": "stdout",
     "output_type": "stream",
     "text": [
      "Spearman Correlation: 0.26132789066748396\n",
      "P-value: 4.488025315076264e-06\n"
     ]
    }
   ],
   "source": [
    "results_name = 'BLANC_help_unbatched_300'\n",
    "\n",
    "with open('./results.json', 'r') as json_file:\n",
    "    results = json.load(json_file)\n",
    "\n",
    "    BLANC_results = results[results_name]\n",
    "    \n",
    "    correlation, p_value = spearmanr(BLANC_results, mean_human_scores)\n",
    "    print(f\"Spearman Correlation: {correlation}\")\n",
    "    print(f\"P-value: {p_value}\")"
   ]
  },
  {
   "cell_type": "code",
   "execution_count": null,
   "metadata": {},
   "outputs": [],
   "source": [
    "# # To add in blanc_help to \n",
    "\n",
    "# new_scores = [item[0] for item in scores]\n",
    "# data['BLANC_help_unbatched'] = new_scores\n",
    "\n",
    "# import json\n",
    "\n",
    "# def add_results_to_json(new_data, file_path = \"./results.json\"):\n",
    "#     try:\n",
    "#         with open(file_path, 'r') as json_file:\n",
    "#             existing_data = json.load(json_file)\n",
    "#     except FileNotFoundError:\n",
    "#         existing_data = {}\n",
    "\n",
    "#     for key, value in new_data.items():\n",
    "#         existing_data[key] = value\n",
    "\n",
    "#     with open(file_path, 'w') as json_file:\n",
    "#         json.dump(existing_data, json_file, indent=2)\n",
    "\n",
    "#     print(f\"Data has been added to {file_path}\")\n",
    "\n",
    "# add_results_to_json(data)\n"
   ]
  }
 ],
 "metadata": {
  "kernelspec": {
   "display_name": "blanc",
   "language": "python",
   "name": "python3"
  },
  "language_info": {
   "codemirror_mode": {
    "name": "ipython",
    "version": 3
   },
   "file_extension": ".py",
   "mimetype": "text/x-python",
   "name": "python",
   "nbconvert_exporter": "python",
   "pygments_lexer": "ipython3",
   "version": "3.10.13"
  }
 },
 "nbformat": 4,
 "nbformat_minor": 2
}
