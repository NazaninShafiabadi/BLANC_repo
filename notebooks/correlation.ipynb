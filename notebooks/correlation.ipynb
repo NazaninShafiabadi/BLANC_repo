{
 "cells": [
  {
   "cell_type": "code",
   "execution_count": 23,
   "metadata": {},
   "outputs": [],
   "source": [
    "import json\n",
    "import numpy as np\n",
    "from datasets import load_dataset\n",
    "from scipy.stats import spearmanr"
   ]
  },
  {
   "cell_type": "code",
   "execution_count": 30,
   "metadata": {},
   "outputs": [],
   "source": [
    "DailyNews_ds = load_dataset('json', data_files='../datasets/DailyNews_300.json', split='train')\n",
    "\n",
    "def average_human_scores(dataset = DailyNews_ds):\n",
    "    max_nb_of_scores = max(len(sublist) for sublist in dataset['scores'])\n",
    "    padded_human_scores = [sublist + [np.nan] * (max_nb_of_scores - len(sublist)) for sublist in dataset['scores']]\n",
    "\n",
    "    mean_human_scores = np.nanmean(np.array(padded_human_scores), axis = 1)\n",
    "\n",
    "    assert np.mean(DailyNews_ds['scores'][0]) == mean_human_scores[0]\n",
    "    return mean_human_scores\n",
    "\n",
    "mean_human_scores = average_human_scores(DailyNews_ds)"
   ]
  },
  {
   "cell_type": "code",
   "execution_count": 31,
   "metadata": {},
   "outputs": [
    {
     "name": "stdout",
     "output_type": "stream",
     "text": [
      "Spearman Correlation: 0.26132789066748396\n",
      "P-value: 4.488025315076264e-06\n"
     ]
    }
   ],
   "source": [
    "def get_spearman_correlation(results_name = 'BLANC_help_300'):\n",
    "    with open('./results.json', 'r') as json_file:\n",
    "        results = json.load(json_file)\n",
    "\n",
    "        BLANC_results = results[results_name]\n",
    "\n",
    "        correlation, p_value = spearmanr(BLANC_results, mean_human_scores)\n",
    "        print(f\"Spearman Correlation: {correlation}\")\n",
    "        print(f\"P-value: {p_value}\")\n",
    "\n",
    "results_name = 'BLANC_help_300'\n",
    "get_spearman_correlation(results_name)"
   ]
  }
 ],
 "metadata": {
  "kernelspec": {
   "display_name": "blanc",
   "language": "python",
   "name": "python3"
  },
  "language_info": {
   "codemirror_mode": {
    "name": "ipython",
    "version": 3
   },
   "file_extension": ".py",
   "mimetype": "text/x-python",
   "name": "python",
   "nbconvert_exporter": "python",
   "pygments_lexer": "ipython3",
   "version": "3.10.13"
  }
 },
 "nbformat": 4,
 "nbformat_minor": 2
}
