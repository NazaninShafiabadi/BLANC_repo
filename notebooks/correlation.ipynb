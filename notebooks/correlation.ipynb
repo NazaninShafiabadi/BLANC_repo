{
 "cells": [
  {
   "cell_type": "code",
   "execution_count": 3,
   "metadata": {},
   "outputs": [],
   "source": [
    "import json\n",
    "import numpy as np\n",
    "from datasets import load_dataset\n",
    "from scipy.stats import spearmanr"
   ]
  },
  {
   "cell_type": "code",
   "execution_count": 4,
   "metadata": {},
   "outputs": [],
   "source": [
    "def average_human_scores(dataset):\n",
    "    max_nb_of_scores = max(len(sublist) for sublist in dataset['scores'])\n",
    "    padded_human_scores = [sublist + [np.nan] * (max_nb_of_scores - len(sublist)) for sublist in dataset['scores']]\n",
    "\n",
    "    mean_human_scores = np.nanmean(np.array(padded_human_scores), axis = 1)\n",
    "\n",
    "    assert np.mean(dataset['scores'][0]) == mean_human_scores[0]\n",
    "    return mean_human_scores"
   ]
  },
  {
   "cell_type": "code",
   "execution_count": 5,
   "metadata": {},
   "outputs": [],
   "source": [
    "def get_spearman_correlation(results_name, mean_human_scores):\n",
    "    with open('./results.json', 'r') as json_file:\n",
    "        results = json.load(json_file)\n",
    "\n",
    "        BLANC_results = results[results_name]\n",
    "\n",
    "        correlation, p_value = spearmanr(BLANC_results, mean_human_scores)\n",
    "        print(f\"Spearman Correlation: {correlation}\")\n",
    "        print(f\"P-value: {p_value}\")"
   ]
  },
  {
   "cell_type": "code",
   "execution_count": 6,
   "metadata": {},
   "outputs": [
    {
     "name": "stderr",
     "output_type": "stream",
     "text": [
      "Generating train split: 300 examples [00:00, 10337.33 examples/s]\n"
     ]
    },
    {
     "data": {
      "text/plain": [
       "Dataset({\n",
       "    features: ['text', 'scores', 'summary', 'annotators_ids'],\n",
       "    num_rows: 300\n",
       "})"
      ]
     },
     "execution_count": 6,
     "metadata": {},
     "output_type": "execute_result"
    }
   ],
   "source": [
    "DailyNews_ds = load_dataset('json', data_files='../datasets/DailyNews_300.json', split='train')\n",
    "DailyNews_ds"
   ]
  },
  {
   "cell_type": "code",
   "execution_count": null,
   "metadata": {},
   "outputs": [],
   "source": [
    "DailyNews_ds = load_dataset('json', data_files='../datasets/DailyNews_300.json', split='train')\n",
    "mean_human_scores = average_human_scores(DailyNews_ds)\n",
    "\n",
    "results_name = 'BLANC_help_300'\n",
    "get_spearman_correlation(results_name)\n",
    "results_name = 'BLANC_help_300_similarity'\n",
    "get_spearman_correlation(results_name)\n",
    "\n",
    "# why not TO DO : loop and add correlations on results.json"
   ]
  }
 ],
 "metadata": {
  "kernelspec": {
   "display_name": "blanc",
   "language": "python",
   "name": "python3"
  },
  "language_info": {
   "codemirror_mode": {
    "name": "ipython",
    "version": 3
   },
   "file_extension": ".py",
   "mimetype": "text/x-python",
   "name": "python",
   "nbconvert_exporter": "python",
   "pygments_lexer": "ipython3",
   "version": "3.10.0"
  }
 },
 "nbformat": 4,
 "nbformat_minor": 2
}
