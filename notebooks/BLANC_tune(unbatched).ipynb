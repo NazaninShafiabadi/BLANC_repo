{
 "cells": [
  {
   "cell_type": "code",
   "execution_count": 1,
   "metadata": {},
   "outputs": [
    {
     "name": "stderr",
     "output_type": "stream",
     "text": [
      "[nltk_data] Downloading package punkt to\n",
      "[nltk_data]     C:\\Users\\Liora\\AppData\\Roaming\\nltk_data...\n",
      "[nltk_data]   Package punkt is already up-to-date!\n"
     ]
    },
    {
     "data": {
      "text/plain": [
       "True"
      ]
     },
     "execution_count": 1,
     "metadata": {},
     "output_type": "execute_result"
    }
   ],
   "source": [
    "import pandas as pd\n",
    "import torch\n",
    "import nltk\n",
    "from nltk.tokenize import sent_tokenize\n",
    "from datasets import load_dataset\n",
    "from tqdm.notebook import tqdm\n",
    "import random\n",
    "\n",
    "SEED = 42\n",
    "random.seed(SEED)\n",
    "torch.manual_seed(SEED)\n",
    "torch.cuda.manual_seed_all(SEED)\n",
    "\n",
    "\n",
    "# The models the authors used:\n",
    "try:\n",
    "    from transformers import BertConfig, BertForMaskedLM, BertTokenizer, AdamW, get_linear_schedule_with_warmup\n",
    "    from transformers import AlbertForMaskedLM, AlbertTokenizer\n",
    "except ModuleNotFoundError:\n",
    "    %pip install transformers\n",
    "    from transformers import BertForMaskedLM, BertTokenizer, AdamW, get_linear_schedule_with_warmup\n",
    "    from transformers import AlbertForMaskedLM, AlbertTokenizer\n",
    "\n",
    "nltk.download('punkt')"
   ]
  },
  {
   "cell_type": "code",
   "execution_count": 2,
   "metadata": {},
   "outputs": [
    {
     "data": {
      "text/plain": [
       "device(type='cuda')"
      ]
     },
     "execution_count": 2,
     "metadata": {},
     "output_type": "execute_result"
    }
   ],
   "source": [
    "DEVICE = torch.device('cuda' if torch.cuda.is_available() else 'cpu')\n",
    "DEVICE"
   ]
  },
  {
   "cell_type": "code",
   "execution_count": 3,
   "metadata": {},
   "outputs": [
    {
     "data": {
      "text/plain": [
       "Dataset({\n",
       "    features: ['scores', 'text', 'summary', 'annotators_ids'],\n",
       "    num_rows: 300\n",
       "})"
      ]
     },
     "execution_count": 3,
     "metadata": {},
     "output_type": "execute_result"
    }
   ],
   "source": [
    "DailyNews_ds = load_dataset('json', data_files='../datasets/DailyNews_300.json', split='train')\n",
    "DailyNews_ds"
   ]
  },
  {
   "cell_type": "code",
   "execution_count": 4,
   "metadata": {},
   "outputs": [
    {
     "name": "stderr",
     "output_type": "stream",
     "text": [
      "Some weights of the model checkpoint at bert-base-uncased were not used when initializing BertForMaskedLM: ['cls.seq_relationship.bias', 'bert.pooler.dense.weight', 'cls.seq_relationship.weight', 'bert.pooler.dense.bias']\n",
      "- This IS expected if you are initializing BertForMaskedLM from the checkpoint of a model trained on another task or with another architecture (e.g. initializing a BertForSequenceClassification model from a BertForPreTraining model).\n",
      "- This IS NOT expected if you are initializing BertForMaskedLM from the checkpoint of a model that you expect to be exactly identical (initializing a BertForSequenceClassification model from a BertForSequenceClassification model).\n"
     ]
    }
   ],
   "source": [
    "tokenizer = BertTokenizer.from_pretrained('bert-base-uncased', do_lower_case = True, seed = SEED)\n",
    "model = BertForMaskedLM.from_pretrained('bert-base-uncased').to(DEVICE)"
   ]
  },
  {
   "cell_type": "code",
   "execution_count": 5,
   "metadata": {},
   "outputs": [],
   "source": [
    "def mask_sentence(sentence, i, M, L_min):\n",
    "    return [tokenizer.mask_token\n",
    "            if (j - i) % M == 0\n",
    "            and (len(sentence[j]) >= L_min\n",
    "                 or sentence[j].startswith('##')\n",
    "                 or sentence[min(j+1, len(sentence)-1)].startswith('##'))\n",
    "            else sentence[j]\n",
    "            for j in range(len(sentence))]"
   ]
  },
  {
   "cell_type": "code",
   "execution_count": 6,
   "metadata": {},
   "outputs": [],
   "source": [
    "def BLANC_help_modified(text, model, model_tuned, M = 6, L_min = 4, device = DEVICE):\n",
    "    \"\"\"\n",
    "    Calculate BLANC similarity between summary and text using a specified model.\n",
    "\n",
    "    Parameters:\n",
    "    - summary (str): The summary text.\n",
    "    - text (List[List[str]]): List of sentences represented as a list of words.\n",
    "    - model: BERT model type\n",
    "    - M (int): Parameter M for the algorithm (default is 6).\n",
    "    - L_min (int): Minimum length requirement for masked words (default is 4).\n",
    "    - sep (str): Separator between the inference help (filler/summary) and a sentence from the text (default is ' ').\n",
    "\n",
    "    Returns:\n",
    "    - float: BLANC similarity score.\n",
    "    \"\"\"\n",
    "\n",
    "    S = [[0, 0], [0, 0]]\n",
    "\n",
    "    for sentence in text:\n",
    "        for i in range(M):\n",
    "            masked_sentence = mask_sentence(sentence, i, M, L_min)\n",
    "\n",
    "            tokenized_masked_sentence = torch.tensor(tokenizer.convert_tokens_to_ids(masked_sentence)).to(device) # Shape: [sequence_length]\n",
    "\n",
    "            out_base = model(input_ids = tokenized_masked_sentence.unsqueeze(0)).logits  # Shape: [1, sequence_length, Bert_vocab_size]\n",
    "            out_tune = model_tuned(input_ids = tokenized_masked_sentence.unsqueeze(0)).logits  # Shape: [1, sequence_length, Bert_vocab_size]\n",
    "\n",
    "            out_base = out_base.squeeze(0)  # Shape: [sequence_length, Bert_vocab_size]\n",
    "            out_tune = out_tune.squeeze(0)  # Shape: [sequence_length, Bert_vocab_size]\n",
    "\n",
    "            masked_tokens = [idx for idx, word in enumerate(masked_sentence) if word == tokenizer.mask_token]\n",
    "\n",
    "            for j in masked_tokens:\n",
    "                predicted_idx_base = torch.argmax(out_base[j]).item()\n",
    "                predicted_idx_tune = torch.argmax(out_tune[j]).item()\n",
    "\n",
    "                predicted_word_base = tokenizer.convert_ids_to_tokens(predicted_idx_base)\n",
    "                predicted_word_tune = tokenizer.convert_ids_to_tokens(predicted_idx_tune)\n",
    "\n",
    "                # print(f'predicted_word_base: {predicted_word_base}')\n",
    "                # print(f'predicted_word_help: {predicted_word_tune}')\n",
    "                # print(f'sentence[{j}]: {sentence[j]}')\n",
    "\n",
    "                k = int(predicted_word_base == sentence[j])\n",
    "                m = int(predicted_word_tune == sentence[j])\n",
    "                S[k][m] += 1\n",
    "\n",
    "    # print(f'S: {S}')\n",
    "    # try:\n",
    "    B = (S[0][1] - S[1][0]) / (S[0][0] + S[1][1] + S[0][1] + S[1][0])\n",
    "    # except ZeroDivisionError:\n",
    "    #   B = 0.0\n",
    "\n",
    "    return B\n",
    "\n"
   ]
  },
  {
   "cell_type": "code",
   "execution_count": 7,
   "metadata": {},
   "outputs": [
    {
     "data": {
      "text/plain": [
       "5027"
      ]
     },
     "execution_count": 7,
     "metadata": {},
     "output_type": "execute_result"
    }
   ],
   "source": [
    "def get_word_lengths(dataset, tokenizer, l_min = 4):\n",
    "    word_lengths = {}\n",
    "    all_tokens = []\n",
    "\n",
    "    for sample in dataset:\n",
    "        summary = sample['summary']\n",
    "        preprocessed_result = tokenizer(summary, \n",
    "                                        add_special_tokens = False,\n",
    "                                        truncation = True,\n",
    "                                        max_length = 512,\n",
    "                                        padding = False,\n",
    "                                        return_attention_mask = False)\n",
    "        tokens = preprocessed_result[\"input_ids\"]\n",
    "        decoded_tokens = tokenizer.convert_ids_to_tokens(tokens)\n",
    "        for token in tokens:\n",
    "            if token not in all_tokens:\n",
    "                all_tokens.append(token)\n",
    "\n",
    "        i = 0\n",
    "        while i < len(tokens):\n",
    "            eligible = False\n",
    "            if decoded_tokens[i].startswith('##'):\n",
    "                eligible = True\n",
    "                word_lengths[tokens[i - 1]] = eligible\n",
    "                word_lengths[tokens[i]] = eligible\n",
    "            else:\n",
    "                if len(decoded_tokens[i]) >= l_min:\n",
    "                    eligible = True\n",
    "                word_lengths[tokens[i]] = eligible\n",
    "            i += 1\n",
    "\n",
    "    assert len(all_tokens) == len(word_lengths), \"Association of tokens with word length : FAILED.\"\n",
    "\n",
    "    return word_lengths\n",
    "\n",
    "word_lengths = get_word_lengths(DailyNews_ds, tokenizer)\n",
    "len(word_lengths)"
   ]
  },
  {
   "cell_type": "code",
   "execution_count": 8,
   "metadata": {},
   "outputs": [],
   "source": [
    "def training(set_tune, epochs = 10, device = DEVICE):\n",
    "    model_tuned = BertForMaskedLM.from_pretrained('bert-base-uncased').to(DEVICE)\n",
    "    optimizer = AdamW(model_tuned.parameters(), lr = 1e-4)\n",
    "    model_tuned.train()\n",
    "\n",
    "    inputs = torch.tensor(set_tune['masked_summaries'].tolist(), dtype = torch.long).to(device)\n",
    "    label = torch.tensor(set_tune['summary'].tolist(), dtype = torch.long).to(device)\n",
    "    # print(inputs.size())\n",
    "    \n",
    "    for epochs in range(epochs):\n",
    "        outputs = model_tuned(input_ids = inputs, labels = label)\n",
    "        loss = outputs.loss\n",
    "        print(loss)\n",
    "        loss.backward()\n",
    "        optimizer.step()\n",
    "        optimizer.zero_grad()\n",
    "        \n",
    "    return model_tuned"
   ]
  },
  {
   "cell_type": "code",
   "execution_count": 9,
   "metadata": {},
   "outputs": [],
   "source": [
    "def BLANC_tune(summary, text, model, p_mask = 0.15, N = 10, epochs = 10, device = DEVICE):\n",
    "    N_summary = len(summary)\n",
    "    # N_summary = len([word for word in summary if not word.startswith('##')])\n",
    "    N_mask = int(N_summary*p_mask)\n",
    "    set_tune = pd.DataFrame(columns = ['masked_summaries', 'summary'])\n",
    "\n",
    "    tokenized_summary = tokenizer.convert_tokens_to_ids(summary)\n",
    "    \n",
    "    for _ in range(0, N):\n",
    "        pos = [i for i, token in enumerate(tokenized_summary) if token in word_lengths and word_lengths[token]]\n",
    "        random.shuffle(pos)\n",
    "        while len(pos) != 0:\n",
    "            masked_summary = tokenized_summary.copy()\n",
    "            for pos_to_mask in pos[:N_mask]:\n",
    "                masked_summary[pos_to_mask] = tokenizer.mask_token_id\n",
    "            set_tune.loc[set_tune.shape[0]] = [masked_summary, tokenized_summary]\n",
    "            pos = pos[N_mask:]\n",
    "\n",
    "    # print(set_tune)\n",
    "    model_tuned = None\n",
    "    del model_tuned\n",
    "    model_tuned = training(set_tune, epochs, device)    \n",
    "    accuracy = BLANC_help_modified(text, model, model_tuned)\n",
    "\n",
    "    return accuracy"
   ]
  },
  {
   "cell_type": "code",
   "execution_count": 10,
   "metadata": {},
   "outputs": [],
   "source": [
    "summaries = DailyNews_ds['summary'] # (List[str])\n",
    "texts = DailyNews_ds['text']  # (List[str]) each string is a paragraph made of a few sentences"
   ]
  },
  {
   "cell_type": "code",
   "execution_count": 11,
   "metadata": {},
   "outputs": [],
   "source": [
    "# each text in texts is a list of sentences (each sentence is a string)\n",
    "texts = [sent_tokenize(text.strip()) for text in texts] # List[List[str]]\n",
    "assert len(texts) == len(summaries) == 300"
   ]
  },
  {
   "cell_type": "code",
   "execution_count": 12,
   "metadata": {},
   "outputs": [],
   "source": [
    "tokenized_texts = [[tokenizer.tokenize(sentence) for sentence in text] for text in texts]\n",
    "tokenized_summaries = [tokenizer.tokenize(summary) for summary in summaries]"
   ]
  },
  {
   "cell_type": "code",
   "execution_count": 13,
   "metadata": {},
   "outputs": [
    {
     "name": "stdout",
     "output_type": "stream",
     "text": [
      "GPU Memory Summary:\n",
      "|===========================================================================|\n",
      "|                  PyTorch CUDA memory summary, device ID 0                 |\n",
      "|---------------------------------------------------------------------------|\n",
      "|            CUDA OOMs: 0            |        cudaMalloc retries: 0         |\n",
      "|===========================================================================|\n",
      "|        Metric         | Cur Usage  | Peak Usage | Tot Alloc  | Tot Freed  |\n",
      "|---------------------------------------------------------------------------|\n",
      "| Allocated memory      | 428904 KiB | 428904 KiB | 428904 KiB |      0 B   |\n",
      "|       from large pool | 428288 KiB | 428288 KiB | 428288 KiB |      0 B   |\n",
      "|       from small pool |    616 KiB |    616 KiB |    616 KiB |      0 B   |\n",
      "|---------------------------------------------------------------------------|\n",
      "| Active memory         | 428904 KiB | 428904 KiB | 428904 KiB |      0 B   |\n",
      "|       from large pool | 428288 KiB | 428288 KiB | 428288 KiB |      0 B   |\n",
      "|       from small pool |    616 KiB |    616 KiB |    616 KiB |      0 B   |\n",
      "|---------------------------------------------------------------------------|\n",
      "| Requested memory      | 427798 KiB | 427798 KiB | 427798 KiB |      0 B   |\n",
      "|       from large pool | 427182 KiB | 427182 KiB | 427182 KiB |      0 B   |\n",
      "|       from small pool |    616 KiB |    616 KiB |    616 KiB |      0 B   |\n",
      "|---------------------------------------------------------------------------|\n",
      "| GPU reserved memory   | 483328 KiB | 483328 KiB | 483328 KiB |      0 B   |\n",
      "|       from large pool | 481280 KiB | 481280 KiB | 481280 KiB |      0 B   |\n",
      "|       from small pool |   2048 KiB |   2048 KiB |   2048 KiB |      0 B   |\n",
      "|---------------------------------------------------------------------------|\n",
      "| Non-releasable memory |  54423 KiB |  54552 KiB | 265210 KiB | 210786 KiB |\n",
      "|       from large pool |  52992 KiB |  52992 KiB | 263168 KiB | 210176 KiB |\n",
      "|       from small pool |   1431 KiB |   2042 KiB |   2042 KiB |    610 KiB |\n",
      "|---------------------------------------------------------------------------|\n",
      "| Allocations           |     204    |     204    |     204    |       0    |\n",
      "|       from large pool |      75    |      75    |      75    |       0    |\n",
      "|       from small pool |     129    |     129    |     129    |       0    |\n",
      "|---------------------------------------------------------------------------|\n",
      "| Active allocs         |     204    |     204    |     204    |       0    |\n",
      "|       from large pool |      75    |      75    |      75    |       0    |\n",
      "|       from small pool |     129    |     129    |     129    |       0    |\n",
      "|---------------------------------------------------------------------------|\n",
      "| GPU reserved segments |      21    |      21    |      21    |       0    |\n",
      "|       from large pool |      20    |      20    |      20    |       0    |\n",
      "|       from small pool |       1    |       1    |       1    |       0    |\n",
      "|---------------------------------------------------------------------------|\n",
      "| Non-releasable allocs |      19    |      19    |      20    |       1    |\n",
      "|       from large pool |      18    |      18    |      19    |       1    |\n",
      "|       from small pool |       1    |       1    |       1    |       0    |\n",
      "|---------------------------------------------------------------------------|\n",
      "| Oversize allocations  |       0    |       0    |       0    |       0    |\n",
      "|---------------------------------------------------------------------------|\n",
      "| Oversize GPU segments |       0    |       0    |       0    |       0    |\n",
      "|===========================================================================|\n",
      "\n",
      "\n",
      "\n"
     ]
    }
   ],
   "source": [
    "import torch\n",
    "\n",
    "def print_gpu_memory():\n",
    "    print(\"GPU Memory Summary:\")\n",
    "    print(torch.cuda.memory_summary(device=None, abbreviated=False))\n",
    "    print(\"\\n\")\n",
    "\n",
    "# Call this function to print GPU memory usage\n",
    "print_gpu_memory()\n"
   ]
  },
  {
   "cell_type": "code",
   "execution_count": 14,
   "metadata": {},
   "outputs": [
    {
     "data": {
      "application/vnd.jupyter.widget-view+json": {
       "model_id": "e2c6c3437e5141bf8ca9c7c05824ef18",
       "version_major": 2,
       "version_minor": 0
      },
      "text/plain": [
       "0it [00:00, ?it/s]"
      ]
     },
     "metadata": {},
     "output_type": "display_data"
    },
    {
     "name": "stderr",
     "output_type": "stream",
     "text": [
      "Some weights of the model checkpoint at bert-base-uncased were not used when initializing BertForMaskedLM: ['cls.seq_relationship.bias', 'bert.pooler.dense.weight', 'cls.seq_relationship.weight', 'bert.pooler.dense.bias']\n",
      "- This IS expected if you are initializing BertForMaskedLM from the checkpoint of a model trained on another task or with another architecture (e.g. initializing a BertForSequenceClassification model from a BertForPreTraining model).\n",
      "- This IS NOT expected if you are initializing BertForMaskedLM from the checkpoint of a model that you expect to be exactly identical (initializing a BertForSequenceClassification model from a BertForSequenceClassification model).\n",
      "c:\\Users\\Liora\\anaconda3\\envs\\blanc\\lib\\site-packages\\transformers\\optimization.py:429: FutureWarning: This implementation of AdamW is deprecated and will be removed in a future version. Use the PyTorch implementation torch.optim.AdamW instead, or set `no_deprecation_warning=True` to disable this warning\n",
      "  warnings.warn(\n"
     ]
    },
    {
     "name": "stdout",
     "output_type": "stream",
     "text": [
      "tensor(1.7869, device='cuda:0', grad_fn=<NllLossBackward0>)\n"
     ]
    },
    {
     "ename": "KeyboardInterrupt",
     "evalue": "",
     "output_type": "error",
     "traceback": [
      "\u001b[1;31m---------------------------------------------------------------------------\u001b[0m",
      "\u001b[1;31mKeyboardInterrupt\u001b[0m                         Traceback (most recent call last)",
      "Cell \u001b[1;32mIn[14], line 5\u001b[0m\n\u001b[0;32m      3\u001b[0m scores \u001b[38;5;241m=\u001b[39m []\n\u001b[0;32m      4\u001b[0m \u001b[38;5;28;01mfor\u001b[39;00m summary, text \u001b[38;5;129;01min\u001b[39;00m tqdm(\u001b[38;5;28mzip\u001b[39m(tokenized_summaries, tokenized_texts)):\n\u001b[1;32m----> 5\u001b[0m     score \u001b[38;5;241m=\u001b[39m \u001b[43mBLANC_tune\u001b[49m\u001b[43m(\u001b[49m\u001b[43msummary\u001b[49m\u001b[43m,\u001b[49m\u001b[43m \u001b[49m\u001b[43mtext\u001b[49m\u001b[43m,\u001b[49m\u001b[43m \u001b[49m\u001b[43mmodel\u001b[49m\u001b[43m)\u001b[49m\n\u001b[0;32m      6\u001b[0m     \u001b[38;5;28mprint\u001b[39m(score)\n\u001b[0;32m      7\u001b[0m     scores\u001b[38;5;241m.\u001b[39mappend(score)\n",
      "Cell \u001b[1;32mIn[9], line 21\u001b[0m, in \u001b[0;36mBLANC_tune\u001b[1;34m(summary, text, model, p_mask, N, epochs, device)\u001b[0m\n\u001b[0;32m     19\u001b[0m \u001b[38;5;66;03m# print(set_tune)\u001b[39;00m\n\u001b[0;32m     20\u001b[0m model_tuned \u001b[38;5;241m=\u001b[39m \u001b[38;5;28;01mNone\u001b[39;00m\n\u001b[1;32m---> 21\u001b[0m model_tuned \u001b[38;5;241m=\u001b[39m \u001b[43mtraining\u001b[49m\u001b[43m(\u001b[49m\u001b[43mset_tune\u001b[49m\u001b[43m,\u001b[49m\u001b[43m \u001b[49m\u001b[43mepochs\u001b[49m\u001b[43m,\u001b[49m\u001b[43m \u001b[49m\u001b[43mdevice\u001b[49m\u001b[43m)\u001b[49m    \n\u001b[0;32m     22\u001b[0m accuracy \u001b[38;5;241m=\u001b[39m BLANC_help_modified(text, model, model_tuned)\n\u001b[0;32m     24\u001b[0m \u001b[38;5;28;01mreturn\u001b[39;00m accuracy\n",
      "Cell \u001b[1;32mIn[8], line 14\u001b[0m, in \u001b[0;36mtraining\u001b[1;34m(set_tune, epochs, device)\u001b[0m\n\u001b[0;32m     12\u001b[0m loss \u001b[38;5;241m=\u001b[39m outputs\u001b[38;5;241m.\u001b[39mloss\n\u001b[0;32m     13\u001b[0m \u001b[38;5;28mprint\u001b[39m(loss)\n\u001b[1;32m---> 14\u001b[0m \u001b[43mloss\u001b[49m\u001b[38;5;241;43m.\u001b[39;49m\u001b[43mbackward\u001b[49m\u001b[43m(\u001b[49m\u001b[43m)\u001b[49m\n\u001b[0;32m     15\u001b[0m optimizer\u001b[38;5;241m.\u001b[39mstep()\n\u001b[0;32m     16\u001b[0m optimizer\u001b[38;5;241m.\u001b[39mzero_grad()\n",
      "File \u001b[1;32mc:\\Users\\Liora\\anaconda3\\envs\\blanc\\lib\\site-packages\\torch\\_tensor.py:492\u001b[0m, in \u001b[0;36mTensor.backward\u001b[1;34m(self, gradient, retain_graph, create_graph, inputs)\u001b[0m\n\u001b[0;32m    482\u001b[0m \u001b[38;5;28;01mif\u001b[39;00m has_torch_function_unary(\u001b[38;5;28mself\u001b[39m):\n\u001b[0;32m    483\u001b[0m     \u001b[38;5;28;01mreturn\u001b[39;00m handle_torch_function(\n\u001b[0;32m    484\u001b[0m         Tensor\u001b[38;5;241m.\u001b[39mbackward,\n\u001b[0;32m    485\u001b[0m         (\u001b[38;5;28mself\u001b[39m,),\n\u001b[1;32m   (...)\u001b[0m\n\u001b[0;32m    490\u001b[0m         inputs\u001b[38;5;241m=\u001b[39minputs,\n\u001b[0;32m    491\u001b[0m     )\n\u001b[1;32m--> 492\u001b[0m \u001b[43mtorch\u001b[49m\u001b[38;5;241;43m.\u001b[39;49m\u001b[43mautograd\u001b[49m\u001b[38;5;241;43m.\u001b[39;49m\u001b[43mbackward\u001b[49m\u001b[43m(\u001b[49m\n\u001b[0;32m    493\u001b[0m \u001b[43m    \u001b[49m\u001b[38;5;28;43mself\u001b[39;49m\u001b[43m,\u001b[49m\u001b[43m \u001b[49m\u001b[43mgradient\u001b[49m\u001b[43m,\u001b[49m\u001b[43m \u001b[49m\u001b[43mretain_graph\u001b[49m\u001b[43m,\u001b[49m\u001b[43m \u001b[49m\u001b[43mcreate_graph\u001b[49m\u001b[43m,\u001b[49m\u001b[43m \u001b[49m\u001b[43minputs\u001b[49m\u001b[38;5;241;43m=\u001b[39;49m\u001b[43minputs\u001b[49m\n\u001b[0;32m    494\u001b[0m \u001b[43m\u001b[49m\u001b[43m)\u001b[49m\n",
      "File \u001b[1;32mc:\\Users\\Liora\\anaconda3\\envs\\blanc\\lib\\site-packages\\torch\\autograd\\__init__.py:251\u001b[0m, in \u001b[0;36mbackward\u001b[1;34m(tensors, grad_tensors, retain_graph, create_graph, grad_variables, inputs)\u001b[0m\n\u001b[0;32m    246\u001b[0m     retain_graph \u001b[38;5;241m=\u001b[39m create_graph\n\u001b[0;32m    248\u001b[0m \u001b[38;5;66;03m# The reason we repeat the same comment below is that\u001b[39;00m\n\u001b[0;32m    249\u001b[0m \u001b[38;5;66;03m# some Python versions print out the first line of a multi-line function\u001b[39;00m\n\u001b[0;32m    250\u001b[0m \u001b[38;5;66;03m# calls in the traceback and some print out the last line\u001b[39;00m\n\u001b[1;32m--> 251\u001b[0m \u001b[43mVariable\u001b[49m\u001b[38;5;241;43m.\u001b[39;49m\u001b[43m_execution_engine\u001b[49m\u001b[38;5;241;43m.\u001b[39;49m\u001b[43mrun_backward\u001b[49m\u001b[43m(\u001b[49m\u001b[43m  \u001b[49m\u001b[38;5;66;43;03m# Calls into the C++ engine to run the backward pass\u001b[39;49;00m\n\u001b[0;32m    252\u001b[0m \u001b[43m    \u001b[49m\u001b[43mtensors\u001b[49m\u001b[43m,\u001b[49m\n\u001b[0;32m    253\u001b[0m \u001b[43m    \u001b[49m\u001b[43mgrad_tensors_\u001b[49m\u001b[43m,\u001b[49m\n\u001b[0;32m    254\u001b[0m \u001b[43m    \u001b[49m\u001b[43mretain_graph\u001b[49m\u001b[43m,\u001b[49m\n\u001b[0;32m    255\u001b[0m \u001b[43m    \u001b[49m\u001b[43mcreate_graph\u001b[49m\u001b[43m,\u001b[49m\n\u001b[0;32m    256\u001b[0m \u001b[43m    \u001b[49m\u001b[43minputs\u001b[49m\u001b[43m,\u001b[49m\n\u001b[0;32m    257\u001b[0m \u001b[43m    \u001b[49m\u001b[43mallow_unreachable\u001b[49m\u001b[38;5;241;43m=\u001b[39;49m\u001b[38;5;28;43;01mTrue\u001b[39;49;00m\u001b[43m,\u001b[49m\n\u001b[0;32m    258\u001b[0m \u001b[43m    \u001b[49m\u001b[43maccumulate_grad\u001b[49m\u001b[38;5;241;43m=\u001b[39;49m\u001b[38;5;28;43;01mTrue\u001b[39;49;00m\u001b[43m,\u001b[49m\n\u001b[0;32m    259\u001b[0m \u001b[43m\u001b[49m\u001b[43m)\u001b[49m\n",
      "\u001b[1;31mKeyboardInterrupt\u001b[0m: "
     ]
    }
   ],
   "source": [
    "# torch.cuda.empty_cache()\n",
    "\n",
    "scores = []\n",
    "for summary, text in tqdm(zip(tokenized_summaries, tokenized_texts)):\n",
    "    score = BLANC_tune(summary, text, model)\n",
    "    print(score)\n",
    "    scores.append(score)\n",
    "scores"
   ]
  },
  {
   "cell_type": "code",
   "execution_count": 15,
   "metadata": {},
   "outputs": [
    {
     "name": "stdout",
     "output_type": "stream",
     "text": [
      "GPU Memory Summary:\n",
      "|===========================================================================|\n",
      "|                  PyTorch CUDA memory summary, device ID 0                 |\n",
      "|---------------------------------------------------------------------------|\n",
      "|            CUDA OOMs: 0            |        cudaMalloc retries: 0         |\n",
      "|===========================================================================|\n",
      "|        Metric         | Cur Usage  | Peak Usage | Tot Alloc  | Tot Freed  |\n",
      "|---------------------------------------------------------------------------|\n",
      "| Allocated memory      |   1835 MiB |   6655 MiB |  16218 MiB |  14382 MiB |\n",
      "|       from large pool |   1833 MiB |   6653 MiB |  16213 MiB |  14380 MiB |\n",
      "|       from small pool |      1 MiB |      2 MiB |      4 MiB |      2 MiB |\n",
      "|---------------------------------------------------------------------------|\n",
      "| Active memory         |   1835 MiB |   6655 MiB |  16218 MiB |  14382 MiB |\n",
      "|       from large pool |   1833 MiB |   6653 MiB |  16213 MiB |  14380 MiB |\n",
      "|       from small pool |      1 MiB |      2 MiB |      4 MiB |      2 MiB |\n",
      "|---------------------------------------------------------------------------|\n",
      "| Requested memory      |   1828 MiB |   6650 MiB |  16207 MiB |  14378 MiB |\n",
      "|       from large pool |   1826 MiB |   6648 MiB |  16202 MiB |  14376 MiB |\n",
      "|       from small pool |      1 MiB |      2 MiB |      4 MiB |      2 MiB |\n",
      "|---------------------------------------------------------------------------|\n",
      "| GPU reserved memory   |   7008 MiB |   7008 MiB |   7008 MiB |      0 B   |\n",
      "|       from large pool |   7004 MiB |   7004 MiB |   7004 MiB |      0 B   |\n",
      "|       from small pool |      4 MiB |      4 MiB |      4 MiB |      0 B   |\n",
      "|---------------------------------------------------------------------------|\n",
      "| Non-releasable memory |    904 MiB |    911 MiB |   4764 MiB |   3859 MiB |\n",
      "|       from large pool |    902 MiB |    909 MiB |   4757 MiB |   3855 MiB |\n",
      "|       from small pool |      2 MiB |      2 MiB |      6 MiB |      4 MiB |\n",
      "|---------------------------------------------------------------------------|\n",
      "| Allocations           |     617    |     659    |    1484    |     867    |\n",
      "|       from large pool |     228    |     342    |     911    |     683    |\n",
      "|       from small pool |     389    |     398    |     573    |     184    |\n",
      "|---------------------------------------------------------------------------|\n",
      "| Active allocs         |     617    |     659    |    1484    |     867    |\n",
      "|       from large pool |     228    |     342    |     911    |     683    |\n",
      "|       from small pool |     389    |     398    |     573    |     184    |\n",
      "|---------------------------------------------------------------------------|\n",
      "| GPU reserved segments |     195    |     195    |     195    |       0    |\n",
      "|       from large pool |     193    |     193    |     193    |       0    |\n",
      "|       from small pool |       2    |       2    |       2    |       0    |\n",
      "|---------------------------------------------------------------------------|\n",
      "| Non-releasable allocs |      91    |     182    |     846    |     755    |\n",
      "|       from large pool |      77    |     179    |     726    |     649    |\n",
      "|       from small pool |      14    |      15    |     120    |     106    |\n",
      "|---------------------------------------------------------------------------|\n",
      "| Oversize allocations  |       0    |       0    |       0    |       0    |\n",
      "|---------------------------------------------------------------------------|\n",
      "| Oversize GPU segments |       0    |       0    |       0    |       0    |\n",
      "|===========================================================================|\n",
      "\n",
      "\n",
      "\n"
     ]
    }
   ],
   "source": [
    "print_gpu_memory()"
   ]
  },
  {
   "cell_type": "code",
   "execution_count": 16,
   "metadata": {},
   "outputs": [
    {
     "name": "stdout",
     "output_type": "stream",
     "text": [
      "GPU Memory Summary:\n",
      "|===========================================================================|\n",
      "|                  PyTorch CUDA memory summary, device ID 0                 |\n",
      "|---------------------------------------------------------------------------|\n",
      "|            CUDA OOMs: 0            |        cudaMalloc retries: 0         |\n",
      "|===========================================================================|\n",
      "|        Metric         | Cur Usage  | Peak Usage | Tot Alloc  | Tot Freed  |\n",
      "|---------------------------------------------------------------------------|\n",
      "| Allocated memory      |   1835 MiB |   6655 MiB |  16218 MiB |  14382 MiB |\n",
      "|       from large pool |   1833 MiB |   6653 MiB |  16213 MiB |  14380 MiB |\n",
      "|       from small pool |      1 MiB |      2 MiB |      4 MiB |      2 MiB |\n",
      "|---------------------------------------------------------------------------|\n",
      "| Active memory         |   1835 MiB |   6655 MiB |  16218 MiB |  14382 MiB |\n",
      "|       from large pool |   1833 MiB |   6653 MiB |  16213 MiB |  14380 MiB |\n",
      "|       from small pool |      1 MiB |      2 MiB |      4 MiB |      2 MiB |\n",
      "|---------------------------------------------------------------------------|\n",
      "| Requested memory      |   1828 MiB |   6650 MiB |  16207 MiB |  14378 MiB |\n",
      "|       from large pool |   1826 MiB |   6648 MiB |  16202 MiB |  14376 MiB |\n",
      "|       from small pool |      1 MiB |      2 MiB |      4 MiB |      2 MiB |\n",
      "|---------------------------------------------------------------------------|\n",
      "| GPU reserved memory   |   2740 MiB |   7008 MiB |   7008 MiB |   4268 MiB |\n",
      "|       from large pool |   2736 MiB |   7004 MiB |   7004 MiB |   4268 MiB |\n",
      "|       from small pool |      4 MiB |      4 MiB |      4 MiB |      0 MiB |\n",
      "|---------------------------------------------------------------------------|\n",
      "| Non-releasable memory |    904 MiB |    911 MiB |   4764 MiB |   3859 MiB |\n",
      "|       from large pool |    902 MiB |    909 MiB |   4757 MiB |   3855 MiB |\n",
      "|       from small pool |      2 MiB |      2 MiB |      6 MiB |      4 MiB |\n",
      "|---------------------------------------------------------------------------|\n",
      "| Allocations           |     617    |     659    |    1484    |     867    |\n",
      "|       from large pool |     228    |     342    |     911    |     683    |\n",
      "|       from small pool |     389    |     398    |     573    |     184    |\n",
      "|---------------------------------------------------------------------------|\n",
      "| Active allocs         |     617    |     659    |    1484    |     867    |\n",
      "|       from large pool |     228    |     342    |     911    |     683    |\n",
      "|       from small pool |     389    |     398    |     573    |     184    |\n",
      "|---------------------------------------------------------------------------|\n",
      "| GPU reserved segments |      78    |     195    |     195    |     117    |\n",
      "|       from large pool |      76    |     193    |     193    |     117    |\n",
      "|       from small pool |       2    |       2    |       2    |       0    |\n",
      "|---------------------------------------------------------------------------|\n",
      "| Non-releasable allocs |      91    |     182    |     846    |     755    |\n",
      "|       from large pool |      77    |     179    |     726    |     649    |\n",
      "|       from small pool |      14    |      15    |     120    |     106    |\n",
      "|---------------------------------------------------------------------------|\n",
      "| Oversize allocations  |       0    |       0    |       0    |       0    |\n",
      "|---------------------------------------------------------------------------|\n",
      "| Oversize GPU segments |       0    |       0    |       0    |       0    |\n",
      "|===========================================================================|\n",
      "\n",
      "\n",
      "\n"
     ]
    }
   ],
   "source": [
    "torch.cuda.empty_cache()\n",
    "print_gpu_memory()"
   ]
  }
 ],
 "metadata": {
  "kernelspec": {
   "display_name": "blanc",
   "language": "python",
   "name": "python3"
  },
  "language_info": {
   "codemirror_mode": {
    "name": "ipython",
    "version": 3
   },
   "file_extension": ".py",
   "mimetype": "text/x-python",
   "name": "python",
   "nbconvert_exporter": "python",
   "pygments_lexer": "ipython3",
   "version": "3.10.13"
  }
 },
 "nbformat": 4,
 "nbformat_minor": 2
}
