{
 "cells": [
  {
   "cell_type": "code",
   "execution_count": 1,
   "metadata": {},
   "outputs": [
    {
     "name": "stderr",
     "output_type": "stream",
     "text": [
      "[nltk_data] Downloading package punkt to\n",
      "[nltk_data]     C:\\Users\\Liora\\AppData\\Roaming\\nltk_data...\n",
      "[nltk_data]   Package punkt is already up-to-date!\n"
     ]
    },
    {
     "data": {
      "text/plain": [
       "True"
      ]
     },
     "execution_count": 1,
     "metadata": {},
     "output_type": "execute_result"
    }
   ],
   "source": [
    "import pandas as pd\n",
    "import torch\n",
    "import nltk\n",
    "from nltk.tokenize import sent_tokenize\n",
    "from datasets import load_dataset\n",
    "from tqdm.notebook import tqdm\n",
    "import random\n",
    "\n",
    "SEED = 42\n",
    "random.seed(SEED)\n",
    "torch.manual_seed(SEED)\n",
    "torch.cuda.manual_seed_all(SEED)\n",
    "\n",
    "\n",
    "# The models the authors used:\n",
    "try:\n",
    "    from transformers import BertConfig, BertForMaskedLM, BertTokenizer, AdamW, get_linear_schedule_with_warmup\n",
    "    from transformers import AlbertForMaskedLM, AlbertTokenizer\n",
    "except ModuleNotFoundError:\n",
    "    %pip install transformers\n",
    "    from transformers import BertForMaskedLM, BertTokenizer, AdamW, get_linear_schedule_with_warmup\n",
    "    from transformers import AlbertForMaskedLM, AlbertTokenizer\n",
    "\n",
    "nltk.download('punkt')"
   ]
  },
  {
   "cell_type": "code",
   "execution_count": 2,
   "metadata": {},
   "outputs": [
    {
     "data": {
      "text/plain": [
       "device(type='cuda')"
      ]
     },
     "execution_count": 2,
     "metadata": {},
     "output_type": "execute_result"
    }
   ],
   "source": [
    "DEVICE = torch.device('cuda' if torch.cuda.is_available() else 'cpu')\n",
    "DEVICE"
   ]
  },
  {
   "cell_type": "code",
   "execution_count": 3,
   "metadata": {},
   "outputs": [
    {
     "data": {
      "text/plain": [
       "Dataset({\n",
       "    features: ['scores', 'text', 'summary', 'annotators_ids'],\n",
       "    num_rows: 300\n",
       "})"
      ]
     },
     "execution_count": 3,
     "metadata": {},
     "output_type": "execute_result"
    }
   ],
   "source": [
    "DailyNews_ds = load_dataset('json', data_files='../datasets/DailyNews_300.json', split='train')\n",
    "DailyNews_ds"
   ]
  },
  {
   "cell_type": "code",
   "execution_count": 4,
   "metadata": {},
   "outputs": [
    {
     "name": "stderr",
     "output_type": "stream",
     "text": [
      "Some weights of the model checkpoint at bert-base-uncased were not used when initializing BertForMaskedLM: ['cls.seq_relationship.weight', 'bert.pooler.dense.bias', 'cls.seq_relationship.bias', 'bert.pooler.dense.weight']\n",
      "- This IS expected if you are initializing BertForMaskedLM from the checkpoint of a model trained on another task or with another architecture (e.g. initializing a BertForSequenceClassification model from a BertForPreTraining model).\n",
      "- This IS NOT expected if you are initializing BertForMaskedLM from the checkpoint of a model that you expect to be exactly identical (initializing a BertForSequenceClassification model from a BertForSequenceClassification model).\n"
     ]
    }
   ],
   "source": [
    "tokenizer = BertTokenizer.from_pretrained('bert-base-uncased', do_lower_case = True, seed = SEED)\n",
    "model = BertForMaskedLM.from_pretrained('bert-base-uncased').to(DEVICE)"
   ]
  },
  {
   "cell_type": "code",
   "execution_count": 5,
   "metadata": {},
   "outputs": [],
   "source": [
    "def mask_sentence(sentence, i, M, L_min):\n",
    "    return [tokenizer.mask_token\n",
    "            if (j - i) % M == 0\n",
    "            and (len(sentence[j]) >= L_min\n",
    "                 or sentence[j].startswith('##')\n",
    "                 or sentence[min(j+1, len(sentence)-1)].startswith('##'))\n",
    "            else sentence[j]\n",
    "            for j in range(len(sentence))]"
   ]
  },
  {
   "cell_type": "code",
   "execution_count": 6,
   "metadata": {},
   "outputs": [],
   "source": [
    "def BLANC_help_modified(text, model, model_tuned, M = 6, L_min = 4, device = DEVICE):\n",
    "    \"\"\"\n",
    "    Calculate BLANC similarity between summary and text using a specified model.\n",
    "\n",
    "    Parameters:\n",
    "    - summary (str): The summary text.\n",
    "    - text (List[List[str]]): List of sentences represented as a list of words.\n",
    "    - model: BERT model type\n",
    "    - M (int): Parameter M for the algorithm (default is 6).\n",
    "    - L_min (int): Minimum length requirement for masked words (default is 4).\n",
    "    - sep (str): Separator between the inference help (filler/summary) and a sentence from the text (default is ' ').\n",
    "\n",
    "    Returns:\n",
    "    - float: BLANC similarity score.\n",
    "    \"\"\"\n",
    "\n",
    "    S = [[0, 0], [0, 0]]\n",
    "\n",
    "    for sentence in text:\n",
    "        for i in range(M):\n",
    "            masked_sentence = mask_sentence(sentence, i, M, L_min)\n",
    "\n",
    "            tokenized_masked_sentence = torch.tensor(tokenizer.convert_tokens_to_ids(masked_sentence)).to(device) # Shape: [sequence_length]\n",
    "\n",
    "            out_base = model(input_ids = tokenized_masked_sentence.unsqueeze(0)).logits  # Shape: [1, sequence_length, Bert_vocab_size]\n",
    "            out_tune = model_tuned(input_ids = tokenized_masked_sentence.unsqueeze(0)).logits  # Shape: [1, sequence_length, Bert_vocab_size]\n",
    "\n",
    "            out_base = out_base.squeeze(0)  # Shape: [sequence_length, Bert_vocab_size]\n",
    "            out_tune = out_tune.squeeze(0)  # Shape: [sequence_length, Bert_vocab_size]\n",
    "\n",
    "            masked_tokens = [idx for idx, word in enumerate(masked_sentence) if word == tokenizer.mask_token]\n",
    "\n",
    "            for j in masked_tokens:\n",
    "                predicted_idx_base = torch.argmax(out_base[j]).item()\n",
    "                predicted_idx_tune = torch.argmax(out_tune[j]).item()\n",
    "\n",
    "                predicted_word_base = tokenizer.convert_ids_to_tokens(predicted_idx_base)\n",
    "                predicted_word_tune = tokenizer.convert_ids_to_tokens(predicted_idx_tune)\n",
    "\n",
    "                # print(f'predicted_word_base: {predicted_word_base}')\n",
    "                # print(f'predicted_word_help: {predicted_word_tune}')\n",
    "                # print(f'sentence[{j}]: {sentence[j]}')\n",
    "\n",
    "                k = int(predicted_word_base == sentence[j])\n",
    "                m = int(predicted_word_tune == sentence[j])\n",
    "                S[k][m] += 1\n",
    "\n",
    "    # print(f'S: {S}')\n",
    "    # try:\n",
    "    B = (S[0][1] - S[1][0]) / (S[0][0] + S[1][1] + S[0][1] + S[1][0])\n",
    "    # except ZeroDivisionError:\n",
    "    #   B = 0.0\n",
    "\n",
    "    return B\n",
    "\n"
   ]
  },
  {
   "cell_type": "code",
   "execution_count": 7,
   "metadata": {},
   "outputs": [
    {
     "data": {
      "text/plain": [
       "5027"
      ]
     },
     "execution_count": 7,
     "metadata": {},
     "output_type": "execute_result"
    }
   ],
   "source": [
    "def get_word_lengths(dataset, tokenizer, l_min = 4):\n",
    "    word_lengths = {}\n",
    "    all_tokens = []\n",
    "\n",
    "    for sample in dataset:\n",
    "        summary = sample['summary']\n",
    "        preprocessed_result = tokenizer(summary, \n",
    "                                        add_special_tokens = False,\n",
    "                                        truncation = True,\n",
    "                                        max_length = 512,\n",
    "                                        padding = False,\n",
    "                                        return_attention_mask = False)\n",
    "        tokens = preprocessed_result[\"input_ids\"]\n",
    "        decoded_tokens = tokenizer.convert_ids_to_tokens(tokens)\n",
    "        for token in tokens:\n",
    "            if token not in all_tokens:\n",
    "                all_tokens.append(token)\n",
    "\n",
    "        i = 0\n",
    "        while i < len(tokens):\n",
    "            eligible = False\n",
    "            if decoded_tokens[i].startswith('##'):\n",
    "                eligible = True\n",
    "                word_lengths[tokens[i - 1]] = eligible\n",
    "                word_lengths[tokens[i]] = eligible\n",
    "            else:\n",
    "                if len(decoded_tokens[i]) >= l_min:\n",
    "                    eligible = True\n",
    "                word_lengths[tokens[i]] = eligible\n",
    "            i += 1\n",
    "\n",
    "    assert len(all_tokens) == len(word_lengths), \"Association of tokens with word length : FAILED.\"\n",
    "\n",
    "    return word_lengths\n",
    "\n",
    "word_lengths = get_word_lengths(DailyNews_ds, tokenizer)\n",
    "len(word_lengths)"
   ]
  },
  {
   "cell_type": "code",
   "execution_count": 8,
   "metadata": {},
   "outputs": [],
   "source": [
    "def training(set_tune, epochs = 10, device = DEVICE):\n",
    "    model_tuned = BertForMaskedLM.from_pretrained('bert-base-uncased').to(DEVICE)\n",
    "    optimizer = AdamW(model_tuned.parameters(), lr = 1e-4)\n",
    "    model_tuned.train()\n",
    "\n",
    "    inputs = torch.tensor(set_tune['masked_summaries'].tolist(), dtype = torch.long).to(device)\n",
    "    label = torch.tensor(set_tune['summary'].tolist(), dtype = torch.long).to(device)\n",
    "    # print(inputs.size())\n",
    "    \n",
    "    for epochs in range(epochs):\n",
    "        outputs = model_tuned(input_ids = inputs, labels = label)\n",
    "        loss = outputs.loss\n",
    "        print(loss)\n",
    "        loss.backward()\n",
    "        optimizer.step()\n",
    "        optimizer.zero_grad()\n",
    "\n",
    "    return model_tuned"
   ]
  },
  {
   "cell_type": "code",
   "execution_count": 9,
   "metadata": {},
   "outputs": [],
   "source": [
    "def BLANC_tune(summary, text, model, p_mask = 0.15, N = 10, epochs = 10, device = DEVICE):\n",
    "    N_summary = len(summary)\n",
    "    # N_summary = len([word for word in summary if not word.startswith('##')])\n",
    "    N_mask = int(N_summary*p_mask)\n",
    "    set_tune = pd.DataFrame(columns = ['masked_summaries', 'summary'])\n",
    "\n",
    "    tokenized_summary = torch.tensor(tokenizer.convert_tokens_to_ids(summary), dtype = torch.long).to(device)\n",
    "    \n",
    "    for _ in range(0, N):\n",
    "        pos = [i for i, token in enumerate(tokenized_summary.tolist()) if token in word_lengths and word_lengths[token]]\n",
    "        random.shuffle(pos)\n",
    "        while len(pos) != 0:\n",
    "            masked_summary = tokenized_summary.tolist().copy()\n",
    "            for pos_to_mask in pos[:N_mask]:\n",
    "                masked_summary[pos_to_mask] = tokenizer.mask_token_id\n",
    "            set_tune.loc[set_tune.shape[0]] = [masked_summary, tokenized_summary.tolist()]\n",
    "            pos = pos[N_mask:]\n",
    "\n",
    "    # print(set_tune)\n",
    "    model_tuned = training(set_tune, epochs)    \n",
    "    accuracy = BLANC_help_modified(text, model, model_tuned)\n",
    "\n",
    "    return accuracy"
   ]
  },
  {
   "cell_type": "code",
   "execution_count": 10,
   "metadata": {},
   "outputs": [],
   "source": [
    "summaries = DailyNews_ds['summary'] # (List[str])\n",
    "texts = DailyNews_ds['text']  # (List[str]) each string is a paragraph made of a few sentences"
   ]
  },
  {
   "cell_type": "code",
   "execution_count": 11,
   "metadata": {},
   "outputs": [],
   "source": [
    "# each text in texts is a list of sentences (each sentence is a string)\n",
    "texts = [sent_tokenize(text.strip()) for text in texts] # List[List[str]]\n",
    "assert len(texts) == len(summaries) == 300"
   ]
  },
  {
   "cell_type": "code",
   "execution_count": 12,
   "metadata": {},
   "outputs": [],
   "source": [
    "tokenized_texts = [[tokenizer.tokenize(sentence) for sentence in text] for text in texts]\n",
    "tokenized_summaries = [tokenizer.tokenize(summary) for summary in summaries]"
   ]
  },
  {
   "cell_type": "code",
   "execution_count": 13,
   "metadata": {},
   "outputs": [
    {
     "data": {
      "application/vnd.jupyter.widget-view+json": {
       "model_id": "0e0b7d2c45444960bf59b252871370e2",
       "version_major": 2,
       "version_minor": 0
      },
      "text/plain": [
       "0it [00:00, ?it/s]"
      ]
     },
     "metadata": {},
     "output_type": "display_data"
    },
    {
     "name": "stderr",
     "output_type": "stream",
     "text": [
      "Some weights of the model checkpoint at bert-base-uncased were not used when initializing BertForMaskedLM: ['cls.seq_relationship.weight', 'bert.pooler.dense.bias', 'cls.seq_relationship.bias', 'bert.pooler.dense.weight']\n",
      "- This IS expected if you are initializing BertForMaskedLM from the checkpoint of a model trained on another task or with another architecture (e.g. initializing a BertForSequenceClassification model from a BertForPreTraining model).\n",
      "- This IS NOT expected if you are initializing BertForMaskedLM from the checkpoint of a model that you expect to be exactly identical (initializing a BertForSequenceClassification model from a BertForSequenceClassification model).\n",
      "c:\\Users\\Liora\\anaconda3\\envs\\blanc\\lib\\site-packages\\transformers\\optimization.py:429: FutureWarning: This implementation of AdamW is deprecated and will be removed in a future version. Use the PyTorch implementation torch.optim.AdamW instead, or set `no_deprecation_warning=True` to disable this warning\n",
      "  warnings.warn(\n"
     ]
    },
    {
     "name": "stdout",
     "output_type": "stream",
     "text": [
      "tensor(1.8288, device='cuda:0', grad_fn=<NllLossBackward0>)\n"
     ]
    },
    {
     "ename": "KeyboardInterrupt",
     "evalue": "",
     "output_type": "error",
     "traceback": [
      "\u001b[1;31m---------------------------------------------------------------------------\u001b[0m",
      "\u001b[1;31mKeyboardInterrupt\u001b[0m                         Traceback (most recent call last)",
      "Cell \u001b[1;32mIn[13], line 3\u001b[0m\n\u001b[0;32m      1\u001b[0m scores \u001b[38;5;241m=\u001b[39m []\n\u001b[0;32m      2\u001b[0m \u001b[38;5;28;01mfor\u001b[39;00m summary, text \u001b[38;5;129;01min\u001b[39;00m tqdm(\u001b[38;5;28mzip\u001b[39m(tokenized_summaries, tokenized_texts)):\n\u001b[1;32m----> 3\u001b[0m     score \u001b[38;5;241m=\u001b[39m \u001b[43mBLANC_tune\u001b[49m\u001b[43m(\u001b[49m\u001b[43msummary\u001b[49m\u001b[43m,\u001b[49m\u001b[43m \u001b[49m\u001b[43mtext\u001b[49m\u001b[43m,\u001b[49m\u001b[43m \u001b[49m\u001b[43mmodel\u001b[49m\u001b[43m)\u001b[49m\n\u001b[0;32m      4\u001b[0m     \u001b[38;5;28mprint\u001b[39m(score)\n\u001b[0;32m      5\u001b[0m     scores\u001b[38;5;241m.\u001b[39mappend(score)\n",
      "Cell \u001b[1;32mIn[9], line 20\u001b[0m, in \u001b[0;36mBLANC_tune\u001b[1;34m(summary, text, model, p_mask, N, epochs, device)\u001b[0m\n\u001b[0;32m     17\u001b[0m         pos \u001b[38;5;241m=\u001b[39m pos[N_mask:]\n\u001b[0;32m     19\u001b[0m \u001b[38;5;66;03m# print(set_tune)\u001b[39;00m\n\u001b[1;32m---> 20\u001b[0m model_tuned \u001b[38;5;241m=\u001b[39m \u001b[43mtraining\u001b[49m\u001b[43m(\u001b[49m\u001b[43mset_tune\u001b[49m\u001b[43m,\u001b[49m\u001b[43m \u001b[49m\u001b[43mepochs\u001b[49m\u001b[43m)\u001b[49m    \n\u001b[0;32m     21\u001b[0m accuracy \u001b[38;5;241m=\u001b[39m BLANC_help_modified(text, model, model_tuned)\n\u001b[0;32m     23\u001b[0m \u001b[38;5;28;01mreturn\u001b[39;00m accuracy\n",
      "Cell \u001b[1;32mIn[8], line 15\u001b[0m, in \u001b[0;36mtraining\u001b[1;34m(set_tune, epochs, device)\u001b[0m\n\u001b[0;32m     13\u001b[0m     \u001b[38;5;28mprint\u001b[39m(loss)\n\u001b[0;32m     14\u001b[0m     loss\u001b[38;5;241m.\u001b[39mbackward()\n\u001b[1;32m---> 15\u001b[0m     \u001b[43moptimizer\u001b[49m\u001b[38;5;241;43m.\u001b[39;49m\u001b[43mstep\u001b[49m\u001b[43m(\u001b[49m\u001b[43m)\u001b[49m\n\u001b[0;32m     16\u001b[0m     optimizer\u001b[38;5;241m.\u001b[39mzero_grad()\n\u001b[0;32m     18\u001b[0m \u001b[38;5;28;01mreturn\u001b[39;00m model_tuned\n",
      "File \u001b[1;32mc:\\Users\\Liora\\anaconda3\\envs\\blanc\\lib\\site-packages\\torch\\optim\\optimizer.py:373\u001b[0m, in \u001b[0;36mOptimizer.profile_hook_step.<locals>.wrapper\u001b[1;34m(*args, **kwargs)\u001b[0m\n\u001b[0;32m    368\u001b[0m         \u001b[38;5;28;01melse\u001b[39;00m:\n\u001b[0;32m    369\u001b[0m             \u001b[38;5;28;01mraise\u001b[39;00m \u001b[38;5;167;01mRuntimeError\u001b[39;00m(\n\u001b[0;32m    370\u001b[0m                 \u001b[38;5;124mf\u001b[39m\u001b[38;5;124m\"\u001b[39m\u001b[38;5;132;01m{\u001b[39;00mfunc\u001b[38;5;132;01m}\u001b[39;00m\u001b[38;5;124m must return None or a tuple of (new_args, new_kwargs), but got \u001b[39m\u001b[38;5;132;01m{\u001b[39;00mresult\u001b[38;5;132;01m}\u001b[39;00m\u001b[38;5;124m.\u001b[39m\u001b[38;5;124m\"\u001b[39m\n\u001b[0;32m    371\u001b[0m             )\n\u001b[1;32m--> 373\u001b[0m out \u001b[38;5;241m=\u001b[39m func(\u001b[38;5;241m*\u001b[39margs, \u001b[38;5;241m*\u001b[39m\u001b[38;5;241m*\u001b[39mkwargs)\n\u001b[0;32m    374\u001b[0m \u001b[38;5;28mself\u001b[39m\u001b[38;5;241m.\u001b[39m_optimizer_step_code()\n\u001b[0;32m    376\u001b[0m \u001b[38;5;66;03m# call optimizer step post hooks\u001b[39;00m\n",
      "File \u001b[1;32mc:\\Users\\Liora\\anaconda3\\envs\\blanc\\lib\\site-packages\\torch\\utils\\_contextlib.py:115\u001b[0m, in \u001b[0;36mcontext_decorator.<locals>.decorate_context\u001b[1;34m(*args, **kwargs)\u001b[0m\n\u001b[0;32m    112\u001b[0m \u001b[38;5;129m@functools\u001b[39m\u001b[38;5;241m.\u001b[39mwraps(func)\n\u001b[0;32m    113\u001b[0m \u001b[38;5;28;01mdef\u001b[39;00m \u001b[38;5;21mdecorate_context\u001b[39m(\u001b[38;5;241m*\u001b[39margs, \u001b[38;5;241m*\u001b[39m\u001b[38;5;241m*\u001b[39mkwargs):\n\u001b[0;32m    114\u001b[0m     \u001b[38;5;28;01mwith\u001b[39;00m ctx_factory():\n\u001b[1;32m--> 115\u001b[0m         \u001b[38;5;28;01mreturn\u001b[39;00m func(\u001b[38;5;241m*\u001b[39margs, \u001b[38;5;241m*\u001b[39m\u001b[38;5;241m*\u001b[39mkwargs)\n",
      "File \u001b[1;32mc:\\Users\\Liora\\anaconda3\\envs\\blanc\\lib\\site-packages\\transformers\\optimization.py:484\u001b[0m, in \u001b[0;36mAdamW.step\u001b[1;34m(self, closure)\u001b[0m\n\u001b[0;32m    480\u001b[0m state[\u001b[38;5;124m\"\u001b[39m\u001b[38;5;124mstep\u001b[39m\u001b[38;5;124m\"\u001b[39m] \u001b[38;5;241m+\u001b[39m\u001b[38;5;241m=\u001b[39m \u001b[38;5;241m1\u001b[39m\n\u001b[0;32m    482\u001b[0m \u001b[38;5;66;03m# Decay the first and second moment running average coefficient\u001b[39;00m\n\u001b[0;32m    483\u001b[0m \u001b[38;5;66;03m# In-place operations to update the averages at the same time\u001b[39;00m\n\u001b[1;32m--> 484\u001b[0m \u001b[43mexp_avg\u001b[49m\u001b[38;5;241;43m.\u001b[39;49m\u001b[43mmul_\u001b[49m\u001b[43m(\u001b[49m\u001b[43mbeta1\u001b[49m\u001b[43m)\u001b[49m\u001b[38;5;241;43m.\u001b[39;49m\u001b[43madd_\u001b[49m\u001b[43m(\u001b[49m\u001b[43mgrad\u001b[49m\u001b[43m,\u001b[49m\u001b[43m \u001b[49m\u001b[43malpha\u001b[49m\u001b[38;5;241;43m=\u001b[39;49m\u001b[43m(\u001b[49m\u001b[38;5;241;43m1.0\u001b[39;49m\u001b[43m \u001b[49m\u001b[38;5;241;43m-\u001b[39;49m\u001b[43m \u001b[49m\u001b[43mbeta1\u001b[49m\u001b[43m)\u001b[49m\u001b[43m)\u001b[49m\n\u001b[0;32m    485\u001b[0m exp_avg_sq\u001b[38;5;241m.\u001b[39mmul_(beta2)\u001b[38;5;241m.\u001b[39maddcmul_(grad, grad, value\u001b[38;5;241m=\u001b[39m\u001b[38;5;241m1.0\u001b[39m \u001b[38;5;241m-\u001b[39m beta2)\n\u001b[0;32m    486\u001b[0m denom \u001b[38;5;241m=\u001b[39m exp_avg_sq\u001b[38;5;241m.\u001b[39msqrt()\u001b[38;5;241m.\u001b[39madd_(group[\u001b[38;5;124m\"\u001b[39m\u001b[38;5;124meps\u001b[39m\u001b[38;5;124m\"\u001b[39m])\n",
      "\u001b[1;31mKeyboardInterrupt\u001b[0m: "
     ]
    }
   ],
   "source": [
    "scores = []\n",
    "for summary, text in tqdm(zip(tokenized_summaries, tokenized_texts)):\n",
    "    score = BLANC_tune(summary, text, model)\n",
    "    print(score)\n",
    "    scores.append(score)\n",
    "scores"
   ]
  }
 ],
 "metadata": {
  "kernelspec": {
   "display_name": "blanc",
   "language": "python",
   "name": "python3"
  },
  "language_info": {
   "codemirror_mode": {
    "name": "ipython",
    "version": 3
   },
   "file_extension": ".py",
   "mimetype": "text/x-python",
   "name": "python",
   "nbconvert_exporter": "python",
   "pygments_lexer": "ipython3",
   "version": "3.10.13"
  }
 },
 "nbformat": 4,
 "nbformat_minor": 2
}
