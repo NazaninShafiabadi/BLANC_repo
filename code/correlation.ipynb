{
 "cells": [
  {
   "cell_type": "code",
   "execution_count": 4,
   "metadata": {},
   "outputs": [],
   "source": [
    "import json\n",
    "import numpy as np\n",
    "from datasets import load_dataset\n",
    "from scipy.stats import spearmanr\n",
    "import pandas as pd"
   ]
  },
  {
   "cell_type": "code",
   "execution_count": 5,
   "metadata": {},
   "outputs": [],
   "source": [
    "def average_human_scores(dataset):\n",
    "    max_nb_of_scores = max(len(sublist) for sublist in dataset['scores'])\n",
    "    padded_human_scores = [sublist + [np.nan] * (max_nb_of_scores - len(sublist)) for sublist in dataset['scores']]\n",
    "\n",
    "    mean_human_scores = np.nanmean(np.array(padded_human_scores), axis = 1)\n",
    "\n",
    "    assert np.mean(dataset['scores'][0]) == mean_human_scores[0]\n",
    "    return mean_human_scores"
   ]
  },
  {
   "cell_type": "code",
   "execution_count": 6,
   "metadata": {},
   "outputs": [],
   "source": [
    "def get_spearman_correlation(results_name, mean_human_scores):\n",
    "    with open('./results.json', 'r') as json_file:\n",
    "        results = json.load(json_file)\n",
    "\n",
    "        BLANC_results = results[results_name]\n",
    "\n",
    "        correlation, p_value = spearmanr(BLANC_results, mean_human_scores)\n",
    "        print(f\"Spearman Correlation: {correlation}\")\n",
    "        print(f\"P-value: {p_value}\")"
   ]
  },
  {
   "cell_type": "code",
   "execution_count": 7,
   "metadata": {},
   "outputs": [
    {
     "data": {
      "text/plain": [
       "Dataset({\n",
       "    features: ['scores', 'text', 'summary', 'annotators_ids'],\n",
       "    num_rows: 300\n",
       "})"
      ]
     },
     "execution_count": 7,
     "metadata": {},
     "output_type": "execute_result"
    }
   ],
   "source": [
    "DailyNews_ds = load_dataset('json', data_files='../datasets/DailyNews_300.json', split='train')\n",
    "DailyNews_ds"
   ]
  },
  {
   "cell_type": "code",
   "execution_count": 9,
   "metadata": {},
   "outputs": [
    {
     "name": "stdout",
     "output_type": "stream",
     "text": [
      "Spearman Correlation: 0.26132789066748396\n",
      "P-value: 4.488025315076264e-06\n",
      "Spearman Correlation: 0.1661435199520691\n",
      "P-value: 0.0039047041933816134\n"
     ]
    }
   ],
   "source": [
    "DailyNews_ds = load_dataset('json', data_files='../datasets/DailyNews_300.json', split='train')\n",
    "mean_human_scores = average_human_scores(DailyNews_ds)\n",
    "\n",
    "results_name = 'BLANC_help_300'\n",
    "get_spearman_correlation(results_name, mean_human_scores)\n",
    "results_name = 'BLANC_help_300_similarity'\n",
    "get_spearman_correlation(results_name, mean_human_scores)\n",
    "\n",
    "# why not TO DO : loop and add correlations on results.json"
   ]
  },
  {
   "cell_type": "code",
   "execution_count": 10,
   "metadata": {},
   "outputs": [
    {
     "name": "stdout",
     "output_type": "stream",
     "text": [
      "0.2570321913049545 0.009836262543746541\n"
     ]
    }
   ],
   "source": [
    "en_fr_dataset = pd.read_csv(\"../datasets/en_to_fr_100_translations.csv\")\n",
    "correlation, p_value = spearmanr(en_fr_dataset[\"translation_score2\"], [(-i+4)%5 for i in range(100)])\n",
    "print(correlation, p_value)"
   ]
  }
 ],
 "metadata": {
  "kernelspec": {
   "display_name": "blanc",
   "language": "python",
   "name": "python3"
  },
  "language_info": {
   "codemirror_mode": {
    "name": "ipython",
    "version": 3
   },
   "file_extension": ".py",
   "mimetype": "text/x-python",
   "name": "python",
   "nbconvert_exporter": "python",
   "pygments_lexer": "ipython3",
   "version": "3.10.0"
  }
 },
 "nbformat": 4,
 "nbformat_minor": 2
}
